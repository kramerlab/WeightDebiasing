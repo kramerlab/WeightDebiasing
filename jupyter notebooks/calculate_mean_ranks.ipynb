{
 "cells": [
  {
   "cell_type": "code",
   "execution_count": 2,
   "id": "a47b7bc3",
   "metadata": {},
   "outputs": [],
   "source": [
    "import pandas as pd"
   ]
  },
  {
   "cell_type": "markdown",
   "id": "fd8aeea6",
   "metadata": {},
   "source": [
    "## AUROC All Data Sets"
   ]
  },
  {
   "cell_type": "code",
   "execution_count": 17,
   "id": "dccf5703",
   "metadata": {},
   "outputs": [
    {
     "data": {
      "text/plain": [
       "Soft-MRS    1.3\n",
       "Uniform     2.7\n",
       "PSA         3.1\n",
       "MRS         3.2\n",
       "KMM         4.7\n",
       "dtype: float64"
      ]
     },
     "execution_count": 17,
     "metadata": {},
     "output_type": "execute_result"
    }
   ],
   "source": [
    "uniform =  [0.789, 0.831, 0.940, 0.712, 0.659]\n",
    "psa =      [0.786, 0.835, 0.939, 0.711, 0.655]\n",
    "kmm =      [0.783, 0.831, 0.934, 0.687, 0.652]\n",
    "mrs =      [0.800, 0.833, 0.941, 0.707, 0.616]\n",
    "soft_mrs = [0.801, 0.838, 0.948, 0.711, 0.660]\n",
    "\n",
    "auroc_df = pd.DataFrame([uniform, psa, kmm, mrs, soft_mrs], \n",
    "                        index=[\"Uniform\", \"PSA\", \"KMM\", \"MRS\", \"Soft-MRS\"],\n",
    "                       columns=[\"US Census Income\", \"US Census Employment\", \"Breast Cancer\",\n",
    "                               \"Human Research Analytics\", \"Loan\"])\n",
    "auroc_df.rank(ascending=False).mean(1).sort_values()"
   ]
  },
  {
   "cell_type": "markdown",
   "id": "8bd80550",
   "metadata": {},
   "source": [
    "## AUROC Large Data Sets"
   ]
  },
  {
   "cell_type": "code",
   "execution_count": 19,
   "id": "9d0f42b2",
   "metadata": {},
   "outputs": [
    {
     "data": {
      "text/plain": [
       "Soft-MRS    1.500000\n",
       "Uniform     2.833333\n",
       "PSA         2.833333\n",
       "MRS         3.000000\n",
       "KMM         4.833333\n",
       "dtype: float64"
      ]
     },
     "execution_count": 19,
     "metadata": {},
     "output_type": "execute_result"
    }
   ],
   "source": [
    "uniform =  [0.789, 0.831, 0.712]\n",
    "psa =      [0.786, 0.835, 0.711]\n",
    "kmm =      [0.783, 0.831, 0.687]\n",
    "mrs =      [0.800, 0.833, 0.707]\n",
    "soft_mrs = [0.801, 0.838, 0.711]\n",
    "\n",
    "auroc_df = pd.DataFrame([uniform, psa, kmm, mrs, soft_mrs], \n",
    "                        index=[\"Uniform\", \"PSA\", \"KMM\", \"MRS\", \"Soft-MRS\"],\n",
    "                       columns=[\"US Census Income\", \"US Census Employment\", \"Human Research Analytics\"])\n",
    "auroc_df.rank(ascending=False).mean(1).sort_values()"
   ]
  },
  {
   "cell_type": "markdown",
   "id": "ef99b144",
   "metadata": {},
   "source": [
    "## AUPRC Large Data Sets"
   ]
  },
  {
   "cell_type": "code",
   "execution_count": 20,
   "id": "a3fda07e",
   "metadata": {},
   "outputs": [
    {
     "data": {
      "text/plain": [
       "Soft-MRS    1.6\n",
       "MRS         2.8\n",
       "PSA         2.9\n",
       "Uniform     3.1\n",
       "KMM         4.6\n",
       "dtype: float64"
      ]
     },
     "execution_count": 20,
     "metadata": {},
     "output_type": "execute_result"
    }
   ],
   "source": [
    "uniform =  [0.697, 0.724, 0.951, 0.371, 0.770]\n",
    "psa =      [0.695, 0.730, 0.949, 0.371, 0.770]\n",
    "kmm =      [0.685, 0.725, 0.945, 0.345, 0.769]\n",
    "mrs =      [0.719, 0.727, 0.948, 0.373, 0.752]\n",
    "soft_mrs = [0.718, 0.733, 0.955, 0.371, 0.772]\n",
    "\n",
    "auprc_df = pd.DataFrame([uniform, psa, kmm, mrs, soft_mrs], \n",
    "                        index=[\"Uniform\", \"PSA\", \"KMM\", \"MRS\", \"Soft-MRS\"],\n",
    "                       columns=[\"US Census Income\", \"US Census Employment\", \"Breast Cancer\",\n",
    "                               \"Human Research Analytics\", \"Loan\"])\n",
    "auprc_df.rank(ascending=False).mean(1).sort_values()"
   ]
  },
  {
   "cell_type": "code",
   "execution_count": 21,
   "id": "66e3dfeb",
   "metadata": {},
   "outputs": [
    {
     "data": {
      "text/plain": [
       "MRS         1.666667\n",
       "Soft-MRS    2.000000\n",
       "PSA         3.000000\n",
       "Uniform     3.666667\n",
       "KMM         4.666667\n",
       "dtype: float64"
      ]
     },
     "execution_count": 21,
     "metadata": {},
     "output_type": "execute_result"
    }
   ],
   "source": [
    "uniform =  [0.697, 0.724, 0.371]\n",
    "psa =      [0.695, 0.730, 0.371]\n",
    "kmm =      [0.685, 0.725, 0.345]\n",
    "mrs =      [0.719, 0.727, 0.373]\n",
    "soft_mrs = [0.718, 0.733, 0.371]\n",
    "\n",
    "auprc_df = pd.DataFrame([uniform, psa, kmm, mrs, soft_mrs], \n",
    "                        index=[\"Uniform\", \"PSA\", \"KMM\", \"MRS\", \"Soft-MRS\"],\n",
    "                       columns=[\"US Census Income\", \"US Census Employment\", \n",
    "                               \"Human Research Analytics\"])\n",
    "auprc_df.rank(ascending=False).mean(1).sort_values()"
   ]
  },
  {
   "cell_type": "markdown",
   "id": "3785a5db",
   "metadata": {},
   "source": [
    "## MMD All Data Sets"
   ]
  },
  {
   "cell_type": "code",
   "execution_count": 5,
   "id": "3b34bc4f",
   "metadata": {},
   "outputs": [
    {
     "data": {
      "text/plain": [
       "Uniform     4.7\n",
       "PSA         2.8\n",
       "KMM         1.8\n",
       "MRS         4.3\n",
       "Soft-MRS    1.4\n",
       "dtype: float64"
      ]
     },
     "execution_count": 5,
     "metadata": {},
     "output_type": "execute_result"
    }
   ],
   "source": [
    "uniform =  [0.055, 0.055, 0.099, 0.051, 0.072]\n",
    "psa =      [0.041, 0.025, 0.049, 0.031, 0.039]\n",
    "kmm =      [0.042, 0.023, 0.032, 0.029, 0.023]\n",
    "mrs =      [0.055, 0.046, 0.095, 0.052, 0.066]\n",
    "soft_mrs = [0.032, 0.020, 0.033, 0.026, 0.029]\n",
    "\n",
    "mmd_df = pd.DataFrame([uniform, psa, kmm, mrs, soft_mrs], \n",
    "                        index=[\"Uniform\", \"PSA\", \"KMM\", \"MRS\", \"Soft-MRS\"],\n",
    "                       columns=[\"US Census Income\", \"US Census Employment\", \"Breast Cancer\",\n",
    "                               \"Human Research Analytics\", \"Loan\"])\n",
    "mmd_df.rank().mean(1)"
   ]
  },
  {
   "cell_type": "markdown",
   "id": "eb3124d8",
   "metadata": {},
   "source": [
    "## MMD Large Data Sets"
   ]
  },
  {
   "cell_type": "code",
   "execution_count": 23,
   "id": "51f8c961",
   "metadata": {},
   "outputs": [
    {
     "data": {
      "text/plain": [
       "Soft-MRS    1.000000\n",
       "KMM         2.333333\n",
       "PSA         2.666667\n",
       "Uniform     4.500000\n",
       "MRS         4.500000\n",
       "dtype: float64"
      ]
     },
     "execution_count": 23,
     "metadata": {},
     "output_type": "execute_result"
    }
   ],
   "source": [
    "uniform =  [0.055, 0.055, 0.051]\n",
    "psa =      [0.041, 0.025, 0.031]\n",
    "kmm =      [0.042, 0.023, 0.029]\n",
    "mrs =      [0.055, 0.046, 0.052]\n",
    "soft_mrs = [0.032, 0.020, 0.026]\n",
    "\n",
    "mmd_df = pd.DataFrame([uniform, psa, kmm, mrs, soft_mrs], \n",
    "                        index=[\"Uniform\", \"PSA\", \"KMM\", \"MRS\", \"Soft-MRS\"],\n",
    "                       columns=[\"US Census Income\", \"US Census Employment\",\n",
    "                               \"Human Research Analytics\"])\n",
    "mmd_df.rank().mean(1).sort_values()"
   ]
  },
  {
   "cell_type": "markdown",
   "id": "8fffbc95",
   "metadata": {},
   "source": [
    "## Relative Bias All Data Sets"
   ]
  },
  {
   "cell_type": "code",
   "execution_count": 24,
   "id": "d33f3fad",
   "metadata": {},
   "outputs": [
    {
     "data": {
      "text/plain": [
       "Soft-MRS    1.4\n",
       "PSA         2.4\n",
       "KMM         3.2\n",
       "Uniform     4.0\n",
       "MRS         4.0\n",
       "dtype: float64"
      ]
     },
     "execution_count": 24,
     "metadata": {},
     "output_type": "execute_result"
    }
   ],
   "source": [
    "uniform =  [6.188, 7.375, 11.730, 6.194, 4.358]\n",
    "psa =      [4.490, 4.189, 1.937, 5.257, 4.268]\n",
    "kmm =      [3.567, 2.896, 2.943, 5.747, 7.164]\n",
    "mrs =      [6.381, 7.487, 10.923, 4.794, 6.188 ]\n",
    "soft_mrs = [2.038, 2.510, 1.395, 4.539, 4.566]\n",
    "\n",
    "relative_bias_df = pd.DataFrame([uniform, psa, kmm, mrs, soft_mrs], \n",
    "                        index=[\"Uniform\", \"PSA\", \"KMM\", \"MRS\", \"Soft-MRS\"],\n",
    "                       columns=[\"US Census Income\", \"US Census Employment\", \"Breast Cancer\",\n",
    "                               \"Human Research Analytics\", \"Loan\"])\n",
    "relative_bias_df.rank().mean(1).sort_values()"
   ]
  },
  {
   "cell_type": "markdown",
   "id": "227ef9fe",
   "metadata": {},
   "source": [
    "## Relative Bias Large Data Sets"
   ]
  },
  {
   "cell_type": "code",
   "execution_count": 25,
   "id": "9c7e8440",
   "metadata": {},
   "outputs": [
    {
     "data": {
      "text/plain": [
       "Soft-MRS    1.000000\n",
       "KMM         2.666667\n",
       "PSA         3.000000\n",
       "MRS         4.000000\n",
       "Uniform     4.333333\n",
       "dtype: float64"
      ]
     },
     "execution_count": 25,
     "metadata": {},
     "output_type": "execute_result"
    }
   ],
   "source": [
    "uniform =  [6.188, 7.375, 6.194]\n",
    "psa =      [4.490, 4.189, 5.257]\n",
    "kmm =      [3.567, 2.896, 5.747]\n",
    "mrs =      [6.381, 7.487, 4.794]\n",
    "soft_mrs = [2.038, 2.510, 4.539]\n",
    "\n",
    "relative_bias_df = pd.DataFrame([uniform, psa, kmm, mrs, soft_mrs], \n",
    "                        index=[\"Uniform\", \"PSA\", \"KMM\", \"MRS\", \"Soft-MRS\"],\n",
    "                       columns=[\"US Census Income\", \"US Census Employment\", \n",
    "                               \"Human Research Analytics\"])\n",
    "relative_bias_df.rank().mean(1).sort_values()"
   ]
  }
 ],
 "metadata": {
  "kernelspec": {
   "display_name": "weightDebiasing",
   "language": "python",
   "name": "python3"
  },
  "language_info": {
   "codemirror_mode": {
    "name": "ipython",
    "version": 3
   },
   "file_extension": ".py",
   "mimetype": "text/x-python",
   "name": "python",
   "nbconvert_exporter": "python",
   "pygments_lexer": "ipython3",
   "version": "3.10.12"
  }
 },
 "nbformat": 4,
 "nbformat_minor": 5
}
