{
 "cells": [
  {
   "cell_type": "code",
   "execution_count": 2,
   "id": "a47b7bc3",
   "metadata": {},
   "outputs": [],
   "source": [
    "import pandas as pd"
   ]
  },
  {
   "cell_type": "markdown",
   "id": "93b71ce3",
   "metadata": {},
   "source": [
    "# Mean Difference"
   ]
  },
  {
   "cell_type": "markdown",
   "id": "fd8aeea6",
   "metadata": {},
   "source": [
    "## AUROC All Data Sets"
   ]
  },
  {
   "cell_type": "code",
   "execution_count": 3,
   "id": "dccf5703",
   "metadata": {},
   "outputs": [
    {
     "data": {
      "text/plain": [
       "MRS         1.6\n",
       "Uniform     2.3\n",
       "Soft-MRS    3.0\n",
       "PSA         3.7\n",
       "KMM         4.4\n",
       "dtype: float64"
      ]
     },
     "execution_count": 3,
     "metadata": {},
     "output_type": "execute_result"
    }
   ],
   "source": [
    "uniform =  [0.809, 0.857, 0.730, 0.699, 0.942]\n",
    "psa =      [0.807, 0.850, 0.731, 0.690, 0.938]\n",
    "kmm =      [0.797, 0.845, 0.731, 0.662, 0.940]\n",
    "soft_mrs = [0.803, 0.855, 0.732, 0.697, 0.940]\n",
    "mrs =      [0.805, 0.857, 0.732, 0.700, 0.945]\n",
    "\n",
    "auroc_df = pd.DataFrame([uniform, psa, kmm, mrs, soft_mrs], \n",
    "                        index=[\"Uniform\", \"PSA\", \"KMM\", \"MRS\", \"Soft-MRS\"],\n",
    "                       columns=[\"US Census Income\", \"US Census Employment\", \n",
    "                               \"Human Research Analytics\", \"Loan\", \"Breast Cancer\"])\n",
    "auroc_df.rank(ascending=False).mean(1).sort_values()"
   ]
  },
  {
   "cell_type": "markdown",
   "id": "8bd80550",
   "metadata": {},
   "source": [
    "## AUROC Large Data Sets"
   ]
  },
  {
   "cell_type": "code",
   "execution_count": 6,
   "id": "9d0f42b2",
   "metadata": {},
   "outputs": [
    {
     "data": {
      "text/plain": [
       "MRS         2.000000\n",
       "Uniform     2.500000\n",
       "Soft-MRS    2.833333\n",
       "PSA         3.166667\n",
       "KMM         4.500000\n",
       "dtype: float64"
      ]
     },
     "execution_count": 6,
     "metadata": {},
     "output_type": "execute_result"
    }
   ],
   "source": [
    "auroc_df = pd.DataFrame([uniform[:3], psa[:3], kmm[:3], mrs[:3], soft_mrs[:3]], \n",
    "                        index=[\"Uniform\", \"PSA\", \"KMM\", \"MRS\", \"Soft-MRS\"],\n",
    "                       columns=[\"US Census Income\", \"US Census Employment\", \"Human Research Analytics\"])\n",
    "auroc_df.rank(ascending=False).mean(1).sort_values()"
   ]
  },
  {
   "cell_type": "markdown",
   "id": "ef99b144",
   "metadata": {},
   "source": [
    "## AUPRC All Data Sets"
   ]
  },
  {
   "cell_type": "code",
   "execution_count": 9,
   "id": "a3fda07e",
   "metadata": {},
   "outputs": [
    {
     "data": {
      "text/plain": [
       "MRS         1.6\n",
       "Uniform     2.6\n",
       "Soft-MRS    2.7\n",
       "PSA         3.8\n",
       "KMM         4.3\n",
       "dtype: float64"
      ]
     },
     "execution_count": 9,
     "metadata": {},
     "output_type": "execute_result"
    }
   ],
   "source": [
    "uniform =  [0.726, 0.766, 0.391, 0.790, 0.951]\n",
    "psa =      [0.723, 0.757, 0.392, 0.787, 0.948]\n",
    "kmm =      [0.707, 0.748, 0.393, 0.772, 0.949]\n",
    "soft_mrs = [0.717, 0.763, 0.393, 0.791, 0.951]\n",
    "mrs =      [0.718, 0.766, 0.394, 0.791, 0.954]\n",
    "\n",
    "auprc_df = pd.DataFrame([uniform, psa, kmm, mrs, soft_mrs], \n",
    "                        index=[\"Uniform\", \"PSA\", \"KMM\", \"MRS\", \"Soft-MRS\"],\n",
    "                       columns=[\"US Census Income\", \"US Census Employment\", \"Breast Cancer\",\n",
    "                               \"Human Research Analytics\", \"Loan\"])\n",
    "auprc_df.rank(ascending=False).mean(1).sort_values()"
   ]
  },
  {
   "cell_type": "markdown",
   "id": "c63ba3b2",
   "metadata": {},
   "source": [
    "## AUPRC Large Data Sets"
   ]
  },
  {
   "cell_type": "code",
   "execution_count": 10,
   "id": "66e3dfeb",
   "metadata": {},
   "outputs": [
    {
     "data": {
      "text/plain": [
       "MRS         1.833333\n",
       "Uniform     2.500000\n",
       "Soft-MRS    3.166667\n",
       "PSA         3.333333\n",
       "KMM         4.166667\n",
       "dtype: float64"
      ]
     },
     "execution_count": 10,
     "metadata": {},
     "output_type": "execute_result"
    }
   ],
   "source": [
    "auprc_df = pd.DataFrame([uniform[:3], psa[:3], kmm[:3], mrs[:3], soft_mrs[:3]], \n",
    "                        index=[\"Uniform\", \"PSA\", \"KMM\", \"MRS\", \"Soft-MRS\"],\n",
    "                       columns=[\"US Census Income\", \"US Census Employment\", \n",
    "                               \"Human Research Analytics\"])\n",
    "auprc_df.rank(ascending=False).mean(1).sort_values()"
   ]
  },
  {
   "cell_type": "markdown",
   "id": "3785a5db",
   "metadata": {},
   "source": [
    "## MMD All Data Sets"
   ]
  },
  {
   "cell_type": "code",
   "execution_count": 11,
   "id": "3b34bc4f",
   "metadata": {},
   "outputs": [
    {
     "data": {
      "text/plain": [
       "Soft-MRS    1.4\n",
       "KMM         1.8\n",
       "PSA         2.8\n",
       "MRS         4.2\n",
       "Uniform     4.8\n",
       "dtype: float64"
      ]
     },
     "execution_count": 11,
     "metadata": {},
     "output_type": "execute_result"
    }
   ],
   "source": [
    "uniform =  [0.056, 0.045, 0.052, 0.070, 0.098]\n",
    "psa =      [0.042, 0.025, 0.032, 0.040, 0.049]\n",
    "kmm =      [0.043, 0.023, 0.029, 0.023, 0.032]\n",
    "soft_mrs = [0.032, 0.019, 0.027, 0.029, 0.033]\n",
    "mrs =      [0.056, 0.045, 0.050, 0.065, 0.093]\n",
    "\n",
    "mmd_df = pd.DataFrame([uniform, psa, kmm, mrs, soft_mrs], \n",
    "                        index=[\"Uniform\", \"PSA\", \"KMM\", \"MRS\", \"Soft-MRS\"],\n",
    "                       columns=[\"US Census Income\", \"US Census Employment\", \"Breast Cancer\",\n",
    "                               \"Human Research Analytics\", \"Loan\"])\n",
    "mmd_df.rank().mean(1).sort_values()"
   ]
  },
  {
   "cell_type": "markdown",
   "id": "eb3124d8",
   "metadata": {},
   "source": [
    "## MMD Large Data Sets"
   ]
  },
  {
   "cell_type": "code",
   "execution_count": 12,
   "id": "51f8c961",
   "metadata": {},
   "outputs": [
    {
     "data": {
      "text/plain": [
       "Soft-MRS    1.000000\n",
       "KMM         2.333333\n",
       "PSA         2.666667\n",
       "MRS         4.333333\n",
       "Uniform     4.666667\n",
       "dtype: float64"
      ]
     },
     "execution_count": 12,
     "metadata": {},
     "output_type": "execute_result"
    }
   ],
   "source": [
    "mmd_df = pd.DataFrame([uniform[:3], psa[:3], kmm[:3], mrs[:3], soft_mrs[:3]], \n",
    "                        index=[\"Uniform\", \"PSA\", \"KMM\", \"MRS\", \"Soft-MRS\"],\n",
    "                       columns=[\"US Census Income\", \"US Census Employment\",\n",
    "                               \"Human Research Analytics\"])\n",
    "mmd_df.rank().mean(1).sort_values()"
   ]
  },
  {
   "cell_type": "markdown",
   "id": "8fffbc95",
   "metadata": {},
   "source": [
    "## Relative Bias All Data Sets"
   ]
  },
  {
   "cell_type": "code",
   "execution_count": 13,
   "id": "d33f3fad",
   "metadata": {},
   "outputs": [
    {
     "data": {
      "text/plain": [
       "Soft-MRS    1.2\n",
       "PSA         2.8\n",
       "KMM         3.0\n",
       "MRS         3.8\n",
       "Uniform     4.2\n",
       "dtype: float64"
      ]
     },
     "execution_count": 13,
     "metadata": {},
     "output_type": "execute_result"
    }
   ],
   "source": [
    "uniform =  [6.434, 7.128, 5.635, 5.775, 11.975]\n",
    "psa =      [4.471, 4.157, 5.708, 4.515, 2.379]\n",
    "kmm =      [4.205, 3.414, 6.476, 4.950, 2.681]\n",
    "soft_mrs = [2.116, 2.332, 5.412, 3.860, 1.486]\n",
    "mrs =      [6.966, 7.679, 5.119, 5.518, 11.030]\n",
    "\n",
    "relative_bias_df = pd.DataFrame([uniform, psa, kmm, mrs, soft_mrs], \n",
    "                        index=[\"Uniform\", \"PSA\", \"KMM\", \"MRS\", \"Soft-MRS\"],\n",
    "                       columns=[\"US Census Income\", \"US Census Employment\", \"Breast Cancer\",\n",
    "                               \"Human Research Analytics\", \"Loan\"])\n",
    "relative_bias_df.rank().mean(1).sort_values()"
   ]
  },
  {
   "cell_type": "markdown",
   "id": "227ef9fe",
   "metadata": {},
   "source": [
    "## Relative Bias Large Data Sets"
   ]
  },
  {
   "cell_type": "code",
   "execution_count": 14,
   "id": "9c7e8440",
   "metadata": {},
   "outputs": [
    {
     "data": {
      "text/plain": [
       "Soft-MRS    1.333333\n",
       "KMM         3.000000\n",
       "PSA         3.333333\n",
       "Uniform     3.666667\n",
       "MRS         3.666667\n",
       "dtype: float64"
      ]
     },
     "execution_count": 14,
     "metadata": {},
     "output_type": "execute_result"
    }
   ],
   "source": [
    "relative_bias_df = pd.DataFrame([uniform[:3], psa[:3], kmm[:3], mrs[:3], soft_mrs[:3]], \n",
    "                        index=[\"Uniform\", \"PSA\", \"KMM\", \"MRS\", \"Soft-MRS\"],\n",
    "                       columns=[\"US Census Income\", \"US Census Employment\", \n",
    "                               \"Human Research Analytics\"])\n",
    "relative_bias_df.rank().mean(1).sort_values()"
   ]
  },
  {
   "cell_type": "markdown",
   "id": "b92c4334",
   "metadata": {},
   "source": [
    "# More Positice Class"
   ]
  },
  {
   "cell_type": "markdown",
   "id": "b7feea9f",
   "metadata": {},
   "source": [
    "## AUROC All Data Sets"
   ]
  },
  {
   "cell_type": "code",
   "execution_count": null,
   "id": "671c753a",
   "metadata": {},
   "outputs": [
    {
     "data": {
      "text/plain": [
       "MRS         1.6\n",
       "Uniform     2.3\n",
       "Soft-MRS    3.0\n",
       "PSA         3.7\n",
       "KMM         4.4\n",
       "dtype: float64"
      ]
     },
     "metadata": {},
     "output_type": "display_data"
    }
   ],
   "source": [
    "uniform =  [0, 0, 0, 0, 0]\n",
    "psa =      [0, 0, 0, 0, 0]\n",
    "kmm =      [0, 0, 0, 0, 0]\n",
    "soft_mrs = [0, 0, 0, 0, 0]\n",
    "mrs =      [0, 0, 0, 0, 0]\n",
    "\n",
    "auroc_df = pd.DataFrame([uniform, psa, kmm, mrs, soft_mrs], \n",
    "                        index=[\"Uniform\", \"PSA\", \"KMM\", \"MRS\", \"Soft-MRS\"],\n",
    "                       columns=[\"US Census Income\", \"US Census Employment\", \n",
    "                               \"Human Research Analytics\", \"Loan\", \"Breast Cancer\"])\n",
    "auroc_df.rank(ascending=False).mean(1).sort_values()"
   ]
  },
  {
   "cell_type": "markdown",
   "id": "3d2fc87a",
   "metadata": {},
   "source": [
    "## AUROC Large Data Sets"
   ]
  },
  {
   "cell_type": "code",
   "execution_count": null,
   "id": "4135fa01",
   "metadata": {},
   "outputs": [
    {
     "data": {
      "text/plain": [
       "MRS         2.000000\n",
       "Uniform     2.500000\n",
       "Soft-MRS    2.833333\n",
       "PSA         3.166667\n",
       "KMM         4.500000\n",
       "dtype: float64"
      ]
     },
     "metadata": {},
     "output_type": "display_data"
    }
   ],
   "source": [
    "auroc_df = pd.DataFrame([uniform[:3], psa[:3], kmm[:3], mrs[:3], soft_mrs[:3]], \n",
    "                        index=[\"Uniform\", \"PSA\", \"KMM\", \"MRS\", \"Soft-MRS\"],\n",
    "                       columns=[\"US Census Income\", \"US Census Employment\", \"Human Research Analytics\"])\n",
    "auroc_df.rank(ascending=False).mean(1).sort_values()"
   ]
  },
  {
   "cell_type": "markdown",
   "id": "ec135dab",
   "metadata": {},
   "source": [
    "## AUPRC All Data Sets"
   ]
  },
  {
   "cell_type": "code",
   "execution_count": null,
   "id": "d038ee52",
   "metadata": {},
   "outputs": [
    {
     "data": {
      "text/plain": [
       "MRS         1.6\n",
       "Uniform     2.6\n",
       "Soft-MRS    2.7\n",
       "PSA         3.8\n",
       "KMM         4.3\n",
       "dtype: float64"
      ]
     },
     "metadata": {},
     "output_type": "display_data"
    }
   ],
   "source": [
    "uniform =  [0, 0, 0, 0, 0]\n",
    "psa =      [0, 0, 0, 0, 0]\n",
    "kmm =      [0, 0, 0, 0, 0]\n",
    "soft_mrs = [0, 0, 0, 0, 0]\n",
    "mrs =      [0, 0, 0, 0, 0]\n",
    "\n",
    "auprc_df = pd.DataFrame([uniform, psa, kmm, mrs, soft_mrs], \n",
    "                        index=[\"Uniform\", \"PSA\", \"KMM\", \"MRS\", \"Soft-MRS\"],\n",
    "                       columns=[\"US Census Income\", \"US Census Employment\", \"Breast Cancer\",\n",
    "                               \"Human Research Analytics\", \"Loan\"])\n",
    "auprc_df.rank(ascending=False).mean(1).sort_values()"
   ]
  },
  {
   "cell_type": "markdown",
   "id": "2726f518",
   "metadata": {},
   "source": [
    "## AUPRC Large Data Sets"
   ]
  },
  {
   "cell_type": "code",
   "execution_count": null,
   "id": "88a841f6",
   "metadata": {},
   "outputs": [
    {
     "data": {
      "text/plain": [
       "MRS         1.833333\n",
       "Uniform     2.500000\n",
       "Soft-MRS    3.166667\n",
       "PSA         3.333333\n",
       "KMM         4.166667\n",
       "dtype: float64"
      ]
     },
     "metadata": {},
     "output_type": "display_data"
    }
   ],
   "source": [
    "auprc_df = pd.DataFrame([uniform[:3], psa[:3], kmm[:3], mrs[:3], soft_mrs[:3]], \n",
    "                        index=[\"Uniform\", \"PSA\", \"KMM\", \"MRS\", \"Soft-MRS\"],\n",
    "                       columns=[\"US Census Income\", \"US Census Employment\", \n",
    "                               \"Human Research Analytics\"])\n",
    "auprc_df.rank(ascending=False).mean(1).sort_values()"
   ]
  },
  {
   "cell_type": "markdown",
   "id": "73c694b5",
   "metadata": {},
   "source": [
    "## MMD All Data Sets"
   ]
  },
  {
   "cell_type": "code",
   "execution_count": null,
   "id": "ff38eace",
   "metadata": {},
   "outputs": [
    {
     "data": {
      "text/plain": [
       "Soft-MRS    1.4\n",
       "KMM         1.8\n",
       "PSA         2.8\n",
       "MRS         4.2\n",
       "Uniform     4.8\n",
       "dtype: float64"
      ]
     },
     "metadata": {},
     "output_type": "display_data"
    }
   ],
   "source": [
    "uniform =  [0, 0, 0, 0, 0]\n",
    "psa =      [0, 0, 0, 0, 0]\n",
    "kmm =      [0, 0, 0, 0, 0]\n",
    "soft_mrs = [0, 0, 0, 0, 0]\n",
    "mrs =      [0, 0, 0, 0, 0]\n",
    "\n",
    "mmd_df = pd.DataFrame([uniform, psa, kmm, mrs, soft_mrs], \n",
    "                        index=[\"Uniform\", \"PSA\", \"KMM\", \"MRS\", \"Soft-MRS\"],\n",
    "                       columns=[\"US Census Income\", \"US Census Employment\", \"Breast Cancer\",\n",
    "                               \"Human Research Analytics\", \"Loan\"])\n",
    "mmd_df.rank().mean(1).sort_values()"
   ]
  },
  {
   "cell_type": "markdown",
   "id": "679c725b",
   "metadata": {},
   "source": [
    "## MMD Large Data Sets"
   ]
  },
  {
   "cell_type": "code",
   "execution_count": null,
   "id": "3afb7f48",
   "metadata": {},
   "outputs": [
    {
     "data": {
      "text/plain": [
       "Soft-MRS    1.000000\n",
       "KMM         2.333333\n",
       "PSA         2.666667\n",
       "MRS         4.333333\n",
       "Uniform     4.666667\n",
       "dtype: float64"
      ]
     },
     "metadata": {},
     "output_type": "display_data"
    }
   ],
   "source": [
    "mmd_df = pd.DataFrame([uniform[:3], psa[:3], kmm[:3], mrs[:3], soft_mrs[:3]], \n",
    "                        index=[\"Uniform\", \"PSA\", \"KMM\", \"MRS\", \"Soft-MRS\"],\n",
    "                       columns=[\"US Census Income\", \"US Census Employment\",\n",
    "                               \"Human Research Analytics\"])\n",
    "mmd_df.rank().mean(1).sort_values()"
   ]
  },
  {
   "cell_type": "markdown",
   "id": "ff45b3c7",
   "metadata": {},
   "source": [
    "## Relative Bias All Data Sets"
   ]
  },
  {
   "cell_type": "code",
   "execution_count": null,
   "id": "c6a6f0cb",
   "metadata": {},
   "outputs": [
    {
     "data": {
      "text/plain": [
       "Soft-MRS    1.2\n",
       "PSA         2.8\n",
       "KMM         3.0\n",
       "MRS         3.8\n",
       "Uniform     4.2\n",
       "dtype: float64"
      ]
     },
     "metadata": {},
     "output_type": "display_data"
    }
   ],
   "source": [
    "uniform =  [0, 0, 0, 0, 0]\n",
    "psa =      [0, 0, 0, 0, 0]\n",
    "kmm =      [0, 0, 0, 0, 0]\n",
    "soft_mrs = [0, 0, 0, 0, 0]\n",
    "mrs =      [0, 0, 0, 0, 0]\n",
    "\n",
    "relative_bias_df = pd.DataFrame([uniform, psa, kmm, mrs, soft_mrs], \n",
    "                        index=[\"Uniform\", \"PSA\", \"KMM\", \"MRS\", \"Soft-MRS\"],\n",
    "                       columns=[\"US Census Income\", \"US Census Employment\", \"Breast Cancer\",\n",
    "                               \"Human Research Analytics\", \"Loan\"])\n",
    "relative_bias_df.rank().mean(1).sort_values()"
   ]
  },
  {
   "cell_type": "markdown",
   "id": "76725656",
   "metadata": {},
   "source": [
    "## Relative Bias Large Data Sets"
   ]
  },
  {
   "cell_type": "code",
   "execution_count": null,
   "id": "cf3ddc28",
   "metadata": {},
   "outputs": [
    {
     "data": {
      "text/plain": [
       "Soft-MRS    1.333333\n",
       "KMM         3.000000\n",
       "PSA         3.333333\n",
       "Uniform     3.666667\n",
       "MRS         3.666667\n",
       "dtype: float64"
      ]
     },
     "metadata": {},
     "output_type": "display_data"
    }
   ],
   "source": [
    "relative_bias_df = pd.DataFrame([uniform[:3], psa[:3], kmm[:3], mrs[:3], soft_mrs[:3]], \n",
    "                        index=[\"Uniform\", \"PSA\", \"KMM\", \"MRS\", \"Soft-MRS\"],\n",
    "                       columns=[\"US Census Income\", \"US Census Employment\", \n",
    "                               \"Human Research Analytics\"])\n",
    "relative_bias_df.rank().mean(1).sort_values()"
   ]
  },
  {
   "cell_type": "markdown",
   "id": "45b14ae5",
   "metadata": {},
   "source": [
    "# More Negative Class"
   ]
  },
  {
   "cell_type": "markdown",
   "id": "abd620a4",
   "metadata": {},
   "source": [
    "## AUROC All Data Sets"
   ]
  },
  {
   "cell_type": "code",
   "execution_count": null,
   "id": "e8eca9ee",
   "metadata": {},
   "outputs": [
    {
     "data": {
      "text/plain": [
       "MRS         1.6\n",
       "Uniform     2.3\n",
       "Soft-MRS    3.0\n",
       "PSA         3.7\n",
       "KMM         4.4\n",
       "dtype: float64"
      ]
     },
     "metadata": {},
     "output_type": "display_data"
    }
   ],
   "source": [
    "uniform =  [0, 0, 0, 0, 0]\n",
    "psa =      [0, 0, 0, 0, 0]\n",
    "kmm =      [0, 0, 0, 0, 0]\n",
    "soft_mrs = [0, 0, 0, 0, 0]\n",
    "mrs =      [0, 0, 0, 0, 0]\n",
    "\n",
    "auroc_df = pd.DataFrame([uniform, psa, kmm, mrs, soft_mrs], \n",
    "                        index=[\"Uniform\", \"PSA\", \"KMM\", \"MRS\", \"Soft-MRS\"],\n",
    "                       columns=[\"US Census Income\", \"US Census Employment\", \n",
    "                               \"Human Research Analytics\", \"Loan\", \"Breast Cancer\"])\n",
    "auroc_df.rank(ascending=False).mean(1).sort_values()"
   ]
  },
  {
   "cell_type": "markdown",
   "id": "ae58c372",
   "metadata": {},
   "source": [
    "## AUROC Large Data Sets"
   ]
  },
  {
   "cell_type": "code",
   "execution_count": null,
   "id": "010015d6",
   "metadata": {},
   "outputs": [
    {
     "data": {
      "text/plain": [
       "MRS         2.000000\n",
       "Uniform     2.500000\n",
       "Soft-MRS    2.833333\n",
       "PSA         3.166667\n",
       "KMM         4.500000\n",
       "dtype: float64"
      ]
     },
     "metadata": {},
     "output_type": "display_data"
    }
   ],
   "source": [
    "auroc_df = pd.DataFrame([uniform[:3], psa[:3], kmm[:3], mrs[:3], soft_mrs[:3]], \n",
    "                        index=[\"Uniform\", \"PSA\", \"KMM\", \"MRS\", \"Soft-MRS\"],\n",
    "                       columns=[\"US Census Income\", \"US Census Employment\", \"Human Research Analytics\"])\n",
    "auroc_df.rank(ascending=False).mean(1).sort_values()"
   ]
  },
  {
   "cell_type": "markdown",
   "id": "d867dd03",
   "metadata": {},
   "source": [
    "## AUPRC All Data Sets"
   ]
  },
  {
   "cell_type": "code",
   "execution_count": null,
   "id": "77302019",
   "metadata": {},
   "outputs": [
    {
     "data": {
      "text/plain": [
       "MRS         1.6\n",
       "Uniform     2.6\n",
       "Soft-MRS    2.7\n",
       "PSA         3.8\n",
       "KMM         4.3\n",
       "dtype: float64"
      ]
     },
     "metadata": {},
     "output_type": "display_data"
    }
   ],
   "source": [
    "uniform =  [0, 0, 0, 0, 0]\n",
    "psa =      [0, 0, 0, 0, 0]\n",
    "kmm =      [0, 0, 0, 0, 0]\n",
    "soft_mrs = [0, 0, 0, 0, 0]\n",
    "mrs =      [0, 0, 0, 0, 0]\n",
    "\n",
    "auprc_df = pd.DataFrame([uniform, psa, kmm, mrs, soft_mrs], \n",
    "                        index=[\"Uniform\", \"PSA\", \"KMM\", \"MRS\", \"Soft-MRS\"],\n",
    "                       columns=[\"US Census Income\", \"US Census Employment\", \"Breast Cancer\",\n",
    "                               \"Human Research Analytics\", \"Loan\"])\n",
    "auprc_df.rank(ascending=False).mean(1).sort_values()"
   ]
  },
  {
   "cell_type": "markdown",
   "id": "b7f53fc4",
   "metadata": {},
   "source": [
    "## AUPRC Large Data Sets"
   ]
  },
  {
   "cell_type": "code",
   "execution_count": null,
   "id": "0a49ed70",
   "metadata": {},
   "outputs": [
    {
     "data": {
      "text/plain": [
       "MRS         1.833333\n",
       "Uniform     2.500000\n",
       "Soft-MRS    3.166667\n",
       "PSA         3.333333\n",
       "KMM         4.166667\n",
       "dtype: float64"
      ]
     },
     "metadata": {},
     "output_type": "display_data"
    }
   ],
   "source": [
    "auprc_df = pd.DataFrame([uniform[:3], psa[:3], kmm[:3], mrs[:3], soft_mrs[:3]], \n",
    "                        index=[\"Uniform\", \"PSA\", \"KMM\", \"MRS\", \"Soft-MRS\"],\n",
    "                       columns=[\"US Census Income\", \"US Census Employment\", \n",
    "                               \"Human Research Analytics\"])\n",
    "auprc_df.rank(ascending=False).mean(1).sort_values()"
   ]
  },
  {
   "cell_type": "markdown",
   "id": "76e5af19",
   "metadata": {},
   "source": [
    "## MMD All Data Sets"
   ]
  },
  {
   "cell_type": "code",
   "execution_count": null,
   "id": "8b3f82ee",
   "metadata": {},
   "outputs": [
    {
     "data": {
      "text/plain": [
       "Soft-MRS    1.4\n",
       "KMM         1.8\n",
       "PSA         2.8\n",
       "MRS         4.2\n",
       "Uniform     4.8\n",
       "dtype: float64"
      ]
     },
     "metadata": {},
     "output_type": "display_data"
    }
   ],
   "source": [
    "uniform =  [0, 0, 0, 0, 0]\n",
    "psa =      [0, 0, 0, 0, 0]\n",
    "kmm =      [0, 0, 0, 0, 0]\n",
    "soft_mrs = [0, 0, 0, 0, 0]\n",
    "mrs =      [0, 0, 0, 0, 0]\n",
    "\n",
    "mmd_df = pd.DataFrame([uniform, psa, kmm, mrs, soft_mrs], \n",
    "                        index=[\"Uniform\", \"PSA\", \"KMM\", \"MRS\", \"Soft-MRS\"],\n",
    "                       columns=[\"US Census Income\", \"US Census Employment\", \"Breast Cancer\",\n",
    "                               \"Human Research Analytics\", \"Loan\"])\n",
    "mmd_df.rank().mean(1).sort_values()"
   ]
  },
  {
   "cell_type": "markdown",
   "id": "ec3d31e0",
   "metadata": {},
   "source": [
    "## MMD Large Data Sets"
   ]
  },
  {
   "cell_type": "code",
   "execution_count": null,
   "id": "49b9409f",
   "metadata": {},
   "outputs": [
    {
     "data": {
      "text/plain": [
       "Soft-MRS    1.000000\n",
       "KMM         2.333333\n",
       "PSA         2.666667\n",
       "MRS         4.333333\n",
       "Uniform     4.666667\n",
       "dtype: float64"
      ]
     },
     "metadata": {},
     "output_type": "display_data"
    }
   ],
   "source": [
    "mmd_df = pd.DataFrame([uniform[:3], psa[:3], kmm[:3], mrs[:3], soft_mrs[:3]], \n",
    "                        index=[\"Uniform\", \"PSA\", \"KMM\", \"MRS\", \"Soft-MRS\"],\n",
    "                       columns=[\"US Census Income\", \"US Census Employment\",\n",
    "                               \"Human Research Analytics\"])\n",
    "mmd_df.rank().mean(1).sort_values()"
   ]
  },
  {
   "cell_type": "markdown",
   "id": "c209bfed",
   "metadata": {},
   "source": [
    "## Relative Bias All Data Sets"
   ]
  },
  {
   "cell_type": "code",
   "execution_count": null,
   "id": "62b79ab2",
   "metadata": {},
   "outputs": [
    {
     "data": {
      "text/plain": [
       "Soft-MRS    1.2\n",
       "PSA         2.8\n",
       "KMM         3.0\n",
       "MRS         3.8\n",
       "Uniform     4.2\n",
       "dtype: float64"
      ]
     },
     "metadata": {},
     "output_type": "display_data"
    }
   ],
   "source": [
    "uniform =  [0, 0, 0, 0, 0]\n",
    "psa =      [0, 0, 0, 0, 0]\n",
    "kmm =      [0, 0, 0, 0, 0]\n",
    "soft_mrs = [0, 0, 0, 0, 0]\n",
    "mrs =      [0, 0, 0, 0, 0]\n",
    "\n",
    "relative_bias_df = pd.DataFrame([uniform, psa, kmm, mrs, soft_mrs], \n",
    "                        index=[\"Uniform\", \"PSA\", \"KMM\", \"MRS\", \"Soft-MRS\"],\n",
    "                       columns=[\"US Census Income\", \"US Census Employment\", \"Breast Cancer\",\n",
    "                               \"Human Research Analytics\", \"Loan\"])\n",
    "relative_bias_df.rank().mean(1).sort_values()"
   ]
  },
  {
   "cell_type": "markdown",
   "id": "5c4a76f6",
   "metadata": {},
   "source": [
    "## Relative Bias Large Data Sets"
   ]
  },
  {
   "cell_type": "code",
   "execution_count": null,
   "id": "ea68fc9c",
   "metadata": {},
   "outputs": [
    {
     "data": {
      "text/plain": [
       "Soft-MRS    1.333333\n",
       "KMM         3.000000\n",
       "PSA         3.333333\n",
       "Uniform     3.666667\n",
       "MRS         3.666667\n",
       "dtype: float64"
      ]
     },
     "metadata": {},
     "output_type": "display_data"
    }
   ],
   "source": [
    "relative_bias_df = pd.DataFrame([uniform[:3], psa[:3], kmm[:3], mrs[:3], soft_mrs[:3]], \n",
    "                        index=[\"Uniform\", \"PSA\", \"KMM\", \"MRS\", \"Soft-MRS\"],\n",
    "                       columns=[\"US Census Income\", \"US Census Employment\", \n",
    "                               \"Human Research Analytics\"])\n",
    "relative_bias_df.rank().mean(1).sort_values()"
   ]
  }
 ],
 "metadata": {
  "kernelspec": {
   "display_name": "weightDebiasing",
   "language": "python",
   "name": "python3"
  },
  "language_info": {
   "codemirror_mode": {
    "name": "ipython",
    "version": 3
   },
   "file_extension": ".py",
   "mimetype": "text/x-python",
   "name": "python",
   "nbconvert_exporter": "python",
   "pygments_lexer": "ipython3",
   "version": "3.10.12"
  }
 },
 "nbformat": 4,
 "nbformat_minor": 5
}
